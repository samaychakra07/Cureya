{
  "nbformat": 4,
  "nbformat_minor": 0,
  "metadata": {
    "colab": {
      "name": "Week 5 Task.ipynb",
      "provenance": [],
      "collapsed_sections": [],
      "authorship_tag": "ABX9TyO/pKRHRAbs2lswBR0bExl1"
    },
    "kernelspec": {
      "name": "python3",
      "display_name": "Python 3"
    },
    "language_info": {
      "name": "python"
    }
  },
  "cells": [
    {
      "cell_type": "code",
      "metadata": {
        "id": "z0Id3vRYiHis"
      },
      "source": [
        "import math\n",
        "import pandas_datareader as web\n",
        "import numpy as np\n",
        "import pandas as pd\n",
        "from sklearn.preprocessing import MinMaxScaler\n",
        "from keras.models import Sequential\n",
        "from keras.layers import Dense,LSTM\n",
        "import matplotlib.pyplot as plt\n",
        "plt.style.use('fivethirtyeight')"
      ],
      "execution_count": 1,
      "outputs": []
    },
    {
      "cell_type": "code",
      "metadata": {
        "colab": {
          "base_uri": "https://localhost:8080/",
          "height": 417
        },
        "id": "fLJCTI-qj0ep",
        "outputId": "5dc6e7b8-8a33-4367-cdee-f9731319fb66"
      },
      "source": [
        "df = pd.read_csv('AAPL1.csv')\n",
        "df"
      ],
      "execution_count": 2,
      "outputs": [
        {
          "output_type": "execute_result",
          "data": {
            "text/html": [
              "<div>\n",
              "<style scoped>\n",
              "    .dataframe tbody tr th:only-of-type {\n",
              "        vertical-align: middle;\n",
              "    }\n",
              "\n",
              "    .dataframe tbody tr th {\n",
              "        vertical-align: top;\n",
              "    }\n",
              "\n",
              "    .dataframe thead th {\n",
              "        text-align: right;\n",
              "    }\n",
              "</style>\n",
              "<table border=\"1\" class=\"dataframe\">\n",
              "  <thead>\n",
              "    <tr style=\"text-align: right;\">\n",
              "      <th></th>\n",
              "      <th>Date</th>\n",
              "      <th>Open</th>\n",
              "      <th>High</th>\n",
              "      <th>Low</th>\n",
              "      <th>Close</th>\n",
              "      <th>Adj Close</th>\n",
              "      <th>Volume</th>\n",
              "    </tr>\n",
              "  </thead>\n",
              "  <tbody>\n",
              "    <tr>\n",
              "      <th>0</th>\n",
              "      <td>2012-01-03</td>\n",
              "      <td>14.621429</td>\n",
              "      <td>14.732143</td>\n",
              "      <td>14.607143</td>\n",
              "      <td>14.686786</td>\n",
              "      <td>12.610315</td>\n",
              "      <td>302220800</td>\n",
              "    </tr>\n",
              "    <tr>\n",
              "      <th>1</th>\n",
              "      <td>2012-01-04</td>\n",
              "      <td>14.642857</td>\n",
              "      <td>14.810000</td>\n",
              "      <td>14.617143</td>\n",
              "      <td>14.765714</td>\n",
              "      <td>12.678085</td>\n",
              "      <td>260022000</td>\n",
              "    </tr>\n",
              "    <tr>\n",
              "      <th>2</th>\n",
              "      <td>2012-01-05</td>\n",
              "      <td>14.819643</td>\n",
              "      <td>14.948214</td>\n",
              "      <td>14.738214</td>\n",
              "      <td>14.929643</td>\n",
              "      <td>12.818838</td>\n",
              "      <td>271269600</td>\n",
              "    </tr>\n",
              "    <tr>\n",
              "      <th>3</th>\n",
              "      <td>2012-01-06</td>\n",
              "      <td>14.991786</td>\n",
              "      <td>15.098214</td>\n",
              "      <td>14.972143</td>\n",
              "      <td>15.085714</td>\n",
              "      <td>12.952841</td>\n",
              "      <td>318292800</td>\n",
              "    </tr>\n",
              "    <tr>\n",
              "      <th>4</th>\n",
              "      <td>2012-01-09</td>\n",
              "      <td>15.196429</td>\n",
              "      <td>15.276786</td>\n",
              "      <td>15.048214</td>\n",
              "      <td>15.061786</td>\n",
              "      <td>12.932299</td>\n",
              "      <td>394024400</td>\n",
              "    </tr>\n",
              "    <tr>\n",
              "      <th>...</th>\n",
              "      <td>...</td>\n",
              "      <td>...</td>\n",
              "      <td>...</td>\n",
              "      <td>...</td>\n",
              "      <td>...</td>\n",
              "      <td>...</td>\n",
              "      <td>...</td>\n",
              "    </tr>\n",
              "    <tr>\n",
              "      <th>1998</th>\n",
              "      <td>2019-12-11</td>\n",
              "      <td>67.202499</td>\n",
              "      <td>67.775002</td>\n",
              "      <td>67.125000</td>\n",
              "      <td>67.692497</td>\n",
              "      <td>66.799057</td>\n",
              "      <td>78756800</td>\n",
              "    </tr>\n",
              "    <tr>\n",
              "      <th>1999</th>\n",
              "      <td>2019-12-12</td>\n",
              "      <td>66.945000</td>\n",
              "      <td>68.139999</td>\n",
              "      <td>66.830002</td>\n",
              "      <td>67.864998</td>\n",
              "      <td>66.969292</td>\n",
              "      <td>137310400</td>\n",
              "    </tr>\n",
              "    <tr>\n",
              "      <th>2000</th>\n",
              "      <td>2019-12-13</td>\n",
              "      <td>67.864998</td>\n",
              "      <td>68.824997</td>\n",
              "      <td>67.732498</td>\n",
              "      <td>68.787498</td>\n",
              "      <td>67.879601</td>\n",
              "      <td>133587600</td>\n",
              "    </tr>\n",
              "    <tr>\n",
              "      <th>2001</th>\n",
              "      <td>2019-12-16</td>\n",
              "      <td>69.250000</td>\n",
              "      <td>70.197502</td>\n",
              "      <td>69.245003</td>\n",
              "      <td>69.964996</td>\n",
              "      <td>69.041557</td>\n",
              "      <td>128186000</td>\n",
              "    </tr>\n",
              "    <tr>\n",
              "      <th>2002</th>\n",
              "      <td>2019-12-17</td>\n",
              "      <td>69.892502</td>\n",
              "      <td>70.442497</td>\n",
              "      <td>69.699997</td>\n",
              "      <td>70.102501</td>\n",
              "      <td>69.177261</td>\n",
              "      <td>114158400</td>\n",
              "    </tr>\n",
              "  </tbody>\n",
              "</table>\n",
              "<p>2003 rows × 7 columns</p>\n",
              "</div>"
            ],
            "text/plain": [
              "            Date       Open       High  ...      Close  Adj Close     Volume\n",
              "0     2012-01-03  14.621429  14.732143  ...  14.686786  12.610315  302220800\n",
              "1     2012-01-04  14.642857  14.810000  ...  14.765714  12.678085  260022000\n",
              "2     2012-01-05  14.819643  14.948214  ...  14.929643  12.818838  271269600\n",
              "3     2012-01-06  14.991786  15.098214  ...  15.085714  12.952841  318292800\n",
              "4     2012-01-09  15.196429  15.276786  ...  15.061786  12.932299  394024400\n",
              "...          ...        ...        ...  ...        ...        ...        ...\n",
              "1998  2019-12-11  67.202499  67.775002  ...  67.692497  66.799057   78756800\n",
              "1999  2019-12-12  66.945000  68.139999  ...  67.864998  66.969292  137310400\n",
              "2000  2019-12-13  67.864998  68.824997  ...  68.787498  67.879601  133587600\n",
              "2001  2019-12-16  69.250000  70.197502  ...  69.964996  69.041557  128186000\n",
              "2002  2019-12-17  69.892502  70.442497  ...  70.102501  69.177261  114158400\n",
              "\n",
              "[2003 rows x 7 columns]"
            ]
          },
          "metadata": {},
          "execution_count": 2
        }
      ]
    },
    {
      "cell_type": "code",
      "metadata": {
        "colab": {
          "base_uri": "https://localhost:8080/"
        },
        "id": "oW74ZH1Un76r",
        "outputId": "32b61d28-49f6-4aa1-e4de-27989d79091e"
      },
      "source": [
        "df.shape"
      ],
      "execution_count": 3,
      "outputs": [
        {
          "output_type": "execute_result",
          "data": {
            "text/plain": [
              "(2003, 7)"
            ]
          },
          "metadata": {},
          "execution_count": 3
        }
      ]
    },
    {
      "cell_type": "markdown",
      "metadata": {
        "id": "DdJUyUhAe9VX"
      },
      "source": [
        "**Visualise some of the attributes of the dataset.**"
      ]
    },
    {
      "cell_type": "code",
      "metadata": {
        "id": "y0Uu7PrNpQjR",
        "colab": {
          "base_uri": "https://localhost:8080/",
          "height": 350
        },
        "outputId": "30ceae66-25c7-45b0-9d24-69eb3dbf8264"
      },
      "source": [
        "plt.figure(figsize=(10,5))\n",
        "plt.title('Close Price History')\n",
        "plt.plot(df['Close'])\n",
        "plt.xlabel('Date',fontsize=12)\n",
        "plt.ylabel('Close Price USD($)',fontsize=12)\n",
        "plt.show()"
      ],
      "execution_count": 4,
      "outputs": [
        {
          "output_type": "display_data",
          "data": {
            "image/png": "[encoded data removed]",
            "text/plain": [
              "<Figure size 720x360 with 1 Axes>"
            ]
          },
          "metadata": {
            "needs_background": "light"
          }
        }
      ]
    },
    {
      "cell_type": "markdown",
      "metadata": {
        "id": "n0tvZSTBfdHv"
      },
      "source": [
        "**Split your whole dataset between training and testing dataset.**"
      ]
    },
    {
      "cell_type": "code",
      "metadata": {
        "id": "J8o4LOWhZdwv"
      },
      "source": [
        "data=df.filter(['Close'])\n",
        "dataset=data.values\n",
        "training_data_len= math.ceil(len(dataset) * .8)"
      ],
      "execution_count": 16,
      "outputs": []
    },
    {
      "cell_type": "code",
      "metadata": {
        "colab": {
          "base_uri": "https://localhost:8080/"
        },
        "id": "aFhR2nW0Zhxh",
        "outputId": "0c940a2b-c8cc-4605-ed23-ab089061a9a4"
      },
      "source": [
        "scaler=MinMaxScaler(feature_range=(0,1))\n",
        "scaled_data=scaler.fit_transform(dataset)\n",
        "scaled_data"
      ],
      "execution_count": 17,
      "outputs": [
        {
          "output_type": "execute_result",
          "data": {
            "text/plain": [
              "array([[0.0131651 ],\n",
              "       [0.01457063],\n",
              "       [0.01748986],\n",
              "       ...,\n",
              "       [0.97658262],\n",
              "       [0.99755133],\n",
              "       [1.        ]])"
            ]
          },
          "metadata": {},
          "execution_count": 17
        }
      ]
    },
    {
      "cell_type": "code",
      "metadata": {
        "colab": {
          "base_uri": "https://localhost:8080/"
        },
        "id": "DPr26XcSZqAW",
        "outputId": "b788ef0b-b2a2-49cf-d9aa-0dea4800f385"
      },
      "source": [
        "train_data=scaled_data[0:training_data_len,:]\n",
        "x_train =[]\n",
        "y_train=[]\n",
        "for i in range(60,len(train_data)):\n",
        "  x_train.append(train_data[i-60:i,0])\n",
        "  y_train.append(train_data[i,0])\n",
        "  if i<=60:\n",
        "    print(x_train)\n",
        "    print(y_train)\n",
        "    print()"
      ],
      "execution_count": 18,
      "outputs": [
        {
          "output_type": "stream",
          "text": [
            "[array([0.0131651 , 0.01457063, 0.01748986, 0.02026915, 0.01984304,\n",
            "       0.02080338, 0.02036454, 0.0196268 , 0.01862192, 0.02173194,\n",
            "       0.02453667, 0.02367173, 0.01893356, 0.02345549, 0.01900353,\n",
            "       0.03569839, 0.03440732, 0.03609271, 0.03973694, 0.04194383,\n",
            "       0.04175942, 0.04107891, 0.04397904, 0.04670743, 0.0497984 ,\n",
            "       0.05479095, 0.0652785 , 0.0654375 , 0.07127595, 0.07563886,\n",
            "       0.0681405 , 0.07102789, 0.07097067, 0.07906688, 0.07791571,\n",
            "       0.08004628, 0.08387497, 0.08600557, 0.09214292, 0.09661394,\n",
            "       0.09790501, 0.0983566 , 0.09071196, 0.08886754, 0.08914104,\n",
            "       0.09632779, 0.09835024, 0.10269409, 0.11293359, 0.12659476,\n",
            "       0.12403805, 0.12404441, 0.13392141, 0.13701237, 0.1348118 ,\n",
            "       0.13280208, 0.13070964, 0.13766104, 0.14243104, 0.14442806])]\n",
            "[0.139492723007876]\n",
            "\n"
          ],
          "name": "stdout"
        }
      ]
    },
    {
      "cell_type": "code",
      "metadata": {
        "colab": {
          "base_uri": "https://localhost:8080/"
        },
        "id": "jcI_YY__atV1",
        "outputId": "0f56d518-b168-46a3-846c-b7d8e41d9c97"
      },
      "source": [
        "x_train,y_train=np.array(x_train),np.array(y_train)\n",
        "x_train.shape"
      ],
      "execution_count": 19,
      "outputs": [
        {
          "output_type": "execute_result",
          "data": {
            "text/plain": [
              "(1543, 60)"
            ]
          },
          "metadata": {},
          "execution_count": 19
        }
      ]
    },
    {
      "cell_type": "code",
      "metadata": {
        "colab": {
          "base_uri": "https://localhost:8080/"
        },
        "id": "NRLc43SEayou",
        "outputId": "3d692ae4-ecdb-40bb-a671-a3d27daf941f"
      },
      "source": [
        "x_train=np.reshape(x_train,(x_train.shape[0],x_train.shape[1],1))\n",
        "x_train.shape"
      ],
      "execution_count": 20,
      "outputs": [
        {
          "output_type": "execute_result",
          "data": {
            "text/plain": [
              "(1543, 60, 1)"
            ]
          },
          "metadata": {},
          "execution_count": 20
        }
      ]
    },
    {
      "cell_type": "markdown",
      "metadata": {
        "id": "_4WOgqQtfu4U"
      },
      "source": [
        "**Predict the stock prices using the following algorithms:**\n",
        "\n",
        "**1) RNN**"
      ]
    },
    {
      "cell_type": "code",
      "metadata": {
        "id": "pV5R6RyjbL5K"
      },
      "source": [
        "model=Sequential()\n",
        "model.add(LSTM(50,return_sequences=True,input_shape=(x_train.shape[1],1)))\n",
        "model.add(LSTM(50,return_sequences=False))\n",
        "model.add(Dense(25))\n",
        "model.add(Dense(1))"
      ],
      "execution_count": 21,
      "outputs": []
    },
    {
      "cell_type": "code",
      "metadata": {
        "id": "7P6g5EVkbkm-"
      },
      "source": [
        "model.compile(optimizer='adam',loss='mean_squared_error')"
      ],
      "execution_count": 22,
      "outputs": []
    },
    {
      "cell_type": "markdown",
      "metadata": {
        "id": "dtViekUTf9bN"
      },
      "source": [
        "**Add an Evaluation Metrics(any of your choice).**"
      ]
    },
    {
      "cell_type": "code",
      "metadata": {
        "colab": {
          "base_uri": "https://localhost:8080/"
        },
        "id": "U0NhfAvybl0B",
        "outputId": "516d4641-4043-4923-9cc5-faf12ba1c62f"
      },
      "source": [
        "model.fit(x_train,y_train,batch_size=1,epochs=1)"
      ],
      "execution_count": 23,
      "outputs": [
        {
          "output_type": "stream",
          "text": [
            "1543/1543 [==============================] - 41s 25ms/step - loss: 9.2846e-04\n"
          ],
          "name": "stdout"
        },
        {
          "output_type": "execute_result",
          "data": {
            "text/plain": [
              "<keras.callbacks.History at 0x7fe9e4c6da50>"
            ]
          },
          "metadata": {},
          "execution_count": 23
        }
      ]
    },
    {
      "cell_type": "code",
      "metadata": {
        "id": "p2A3s26qbqAJ"
      },
      "source": [
        "test_data=scaled_data[training_data_len - 60:,:]\n",
        "x_test=[]\n",
        "y_test=dataset[training_data_len:,:]\n",
        "for i in range(60,len(test_data)):\n",
        "  x_test.append(test_data[i-60:i,0])"
      ],
      "execution_count": 24,
      "outputs": []
    },
    {
      "cell_type": "code",
      "metadata": {
        "id": "VU7Sqp4vb0yK"
      },
      "source": [
        "x_test=np.array(x_test)\n",
        "x_test=np.reshape(x_test,(x_test.shape[0],x_test.shape[1],1))"
      ],
      "execution_count": 25,
      "outputs": []
    },
    {
      "cell_type": "code",
      "metadata": {
        "id": "jhkWd4Sjb5c2"
      },
      "source": [
        "predictions=model.predict(x_test)\n",
        "predictions=scaler.inverse_transform(predictions)"
      ],
      "execution_count": 26,
      "outputs": []
    },
    {
      "cell_type": "code",
      "metadata": {
        "colab": {
          "base_uri": "https://localhost:8080/"
        },
        "id": "Bn8hRNyIb9_P",
        "outputId": "eee4c705-7722-49a9-a943-1279711ba48b"
      },
      "source": [
        "rmse=np.sqrt( np.mean((predictions - y_test)**2))\n",
        "rmse"
      ],
      "execution_count": 27,
      "outputs": [
        {
          "output_type": "execute_result",
          "data": {
            "text/plain": [
              "1.6360970445184817"
            ]
          },
          "metadata": {},
          "execution_count": 27
        }
      ]
    },
    {
      "cell_type": "markdown",
      "metadata": {
        "id": "ZqXXPJeDgfoP"
      },
      "source": [
        "plot graph after prediction by using different colors to show predicted\n",
        "stocks. **bold text**"
      ]
    },
    {
      "cell_type": "code",
      "metadata": {
        "colab": {
          "base_uri": "https://localhost:8080/",
          "height": 479
        },
        "id": "bbbI-x1Wb_gN",
        "outputId": "1e6ee8df-a4c4-4004-dbd4-ee068af8d6d7"
      },
      "source": [
        "train=data[:training_data_len]\n",
        "valid=data[training_data_len:]\n",
        "valid['Predictions']=predictions\n",
        "\n",
        "plt.figure(figsize=(10,5))\n",
        "plt.title('Model')\n",
        "plt.xlabel('Date',fontsize=12)\n",
        "plt.ylabel('Close Price USD($)',fontsize=12)\n",
        "plt.plot(train['Close'])\n",
        "plt.plot(valid[['Close','Predictions']])\n",
        "plt.legend(['Train','Val','Predictions'],loc='lower right')\n",
        "plt.show()"
      ],
      "execution_count": 30,
      "outputs": [
        {
          "output_type": "stream",
          "text": [
            "/usr/local/lib/python3.7/dist-packages/ipykernel_launcher.py:3: SettingWithCopyWarning: \n",
            "A value is trying to be set on a copy of a slice from a DataFrame.\n",
            "Try using .loc[row_indexer,col_indexer] = value instead\n",
            "\n",
            "See the caveats in the documentation: https://pandas.pydata.org/pandas-docs/stable/user_guide/indexing.html#returning-a-view-versus-a-copy\n",
            "  This is separate from the ipykernel package so we can avoid doing imports until\n"
          ],
          "name": "stderr"
        },
        {
          "output_type": "display_data",
          "data": {
            "image/png": "[encoded data removed]",
            "text/plain": [
              "<Figure size 720x360 with 1 Axes>"
            ]
          },
          "metadata": {}
        }
      ]
    },
    {
      "cell_type": "code",
      "metadata": {
        "colab": {
          "base_uri": "https://localhost:8080/",
          "height": 417
        },
        "id": "lK1tnzCCcOB8",
        "outputId": "91ea7dd4-57b9-4a0e-a7a9-81283a1d822e"
      },
      "source": [
        "valid"
      ],
      "execution_count": 31,
      "outputs": [
        {
          "output_type": "execute_result",
          "data": {
            "text/html": [
              "<div>\n",
              "<style scoped>\n",
              "    .dataframe tbody tr th:only-of-type {\n",
              "        vertical-align: middle;\n",
              "    }\n",
              "\n",
              "    .dataframe tbody tr th {\n",
              "        vertical-align: top;\n",
              "    }\n",
              "\n",
              "    .dataframe thead th {\n",
              "        text-align: right;\n",
              "    }\n",
              "</style>\n",
              "<table border=\"1\" class=\"dataframe\">\n",
              "  <thead>\n",
              "    <tr style=\"text-align: right;\">\n",
              "      <th></th>\n",
              "      <th>Close</th>\n",
              "      <th>Predictions</th>\n",
              "    </tr>\n",
              "  </thead>\n",
              "  <tbody>\n",
              "    <tr>\n",
              "      <th>1603</th>\n",
              "      <td>46.747501</td>\n",
              "      <td>47.788097</td>\n",
              "    </tr>\n",
              "    <tr>\n",
              "      <th>1604</th>\n",
              "      <td>46.577499</td>\n",
              "      <td>47.881557</td>\n",
              "    </tr>\n",
              "    <tr>\n",
              "      <th>1605</th>\n",
              "      <td>46.907501</td>\n",
              "      <td>47.898846</td>\n",
              "    </tr>\n",
              "    <tr>\n",
              "      <th>1606</th>\n",
              "      <td>46.790001</td>\n",
              "      <td>47.906975</td>\n",
              "    </tr>\n",
              "    <tr>\n",
              "      <th>1607</th>\n",
              "      <td>47.090000</td>\n",
              "      <td>47.896290</td>\n",
              "    </tr>\n",
              "    <tr>\n",
              "      <th>...</th>\n",
              "      <td>...</td>\n",
              "      <td>...</td>\n",
              "    </tr>\n",
              "    <tr>\n",
              "      <th>1998</th>\n",
              "      <td>67.692497</td>\n",
              "      <td>67.656876</td>\n",
              "    </tr>\n",
              "    <tr>\n",
              "      <th>1999</th>\n",
              "      <td>67.864998</td>\n",
              "      <td>67.874260</td>\n",
              "    </tr>\n",
              "    <tr>\n",
              "      <th>2000</th>\n",
              "      <td>68.787498</td>\n",
              "      <td>68.114288</td>\n",
              "    </tr>\n",
              "    <tr>\n",
              "      <th>2001</th>\n",
              "      <td>69.964996</td>\n",
              "      <td>68.439087</td>\n",
              "    </tr>\n",
              "    <tr>\n",
              "      <th>2002</th>\n",
              "      <td>70.102501</td>\n",
              "      <td>68.896278</td>\n",
              "    </tr>\n",
              "  </tbody>\n",
              "</table>\n",
              "<p>400 rows × 2 columns</p>\n",
              "</div>"
            ],
            "text/plain": [
              "          Close  Predictions\n",
              "1603  46.747501    47.788097\n",
              "1604  46.577499    47.881557\n",
              "1605  46.907501    47.898846\n",
              "1606  46.790001    47.906975\n",
              "1607  47.090000    47.896290\n",
              "...         ...          ...\n",
              "1998  67.692497    67.656876\n",
              "1999  67.864998    67.874260\n",
              "2000  68.787498    68.114288\n",
              "2001  69.964996    68.439087\n",
              "2002  70.102501    68.896278\n",
              "\n",
              "[400 rows x 2 columns]"
            ]
          },
          "metadata": {},
          "execution_count": 31
        }
      ]
    },
    {
      "cell_type": "code",
      "metadata": {
        "colab": {
          "base_uri": "https://localhost:8080/"
        },
        "id": "0D06BZ3fcSYg",
        "outputId": "4cff0948-dfe4-45cf-ead9-6b44ddf4608d"
      },
      "source": [
        "apple_quote=pd.read_csv('AAPL1.csv')\n",
        "new_df=apple_quote.filter(['Close'])\n",
        "last_60_days=new_df[-60:].values\n",
        "last_60_days_scaled=scaler.transform(last_60_days)\n",
        "X_test=[]\n",
        "X_test.append(last_60_days_scaled)\n",
        "X_test=np.array(X_test)\n",
        "X_test=np.reshape(X_test,(X_test.shape[0],X_test.shape[1],1))\n",
        "pred_price=model.predict(X_test)\n",
        "pred_price=scaler.inverse_transform(pred_price)\n",
        "print(pred_price)"
      ],
      "execution_count": 33,
      "outputs": [
        {
          "output_type": "stream",
          "text": [
            "[[69.38647]]\n"
          ],
          "name": "stdout"
        }
      ]
    },
    {
      "cell_type": "code",
      "metadata": {
        "colab": {
          "base_uri": "https://localhost:8080/"
        },
        "id": "L3uoalpEckQL",
        "outputId": "4810a6bd-e1f5-4b83-a625-63d252b17697"
      },
      "source": [
        "apple_quote2=pd.read_csv('AAPL1.csv')\n",
        "print(apple_quote2['Close'])"
      ],
      "execution_count": 34,
      "outputs": [
        {
          "output_type": "stream",
          "text": [
            "0       14.686786\n",
            "1       14.765714\n",
            "2       14.929643\n",
            "3       15.085714\n",
            "4       15.061786\n",
            "          ...    \n",
            "1998    67.692497\n",
            "1999    67.864998\n",
            "2000    68.787498\n",
            "2001    69.964996\n",
            "2002    70.102501\n",
            "Name: Close, Length: 2003, dtype: float64\n"
          ],
          "name": "stdout"
        }
      ]
    }
  ]
}